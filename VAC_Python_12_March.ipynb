{
 "cells": [
  {
   "cell_type": "markdown",
   "id": "43274d33-08ee-4eb5-a439-d769478e21bf",
   "metadata": {},
   "source": [
    "# Variable:It is container where actual Value is Store"
   ]
  },
  {
   "cell_type": "code",
   "execution_count": null,
   "id": "9506d420-5d46-4ab5-9c75-5598bf1713f6",
   "metadata": {},
   "outputs": [],
   "source": [
    "a=12\n",
    "b=34.56\n",
    "print(a)\n",
    "#Value of a is 12\n",
    "print(\"value of a is\",a)\n",
    "#value of a is 12 and value of b is 34.56\n",
    "print(f\"value of a is {a} and value of b is {b}.\")"
   ]
  },
  {
   "cell_type": "markdown",
   "id": "c0e5be08-19ce-404b-9dd7-b20c73369cad",
   "metadata": {},
   "source": [
    "# Datatype : defines the form of storage"
   ]
  },
  {
   "cell_type": "code",
   "execution_count": null,
   "id": "683637f7-93a2-4d80-90c9-aba5210fc32b",
   "metadata": {},
   "outputs": [],
   "source": [
    "a=12\n",
    "print(a)\n",
    "print(type(a))#int\n",
    "b=12.22\n",
    "print(b)\n",
    "print(type(b))#float\n",
    "c=\"Python\"\n",
    "print(c)\n",
    "print(type(c))#string\n",
    "d=True\n",
    "print(d)\n",
    "print(type(d))#bool"
   ]
  },
  {
   "cell_type": "markdown",
   "id": "9f2ebd29-21fd-4400-bee6-d29a624e4553",
   "metadata": {},
   "source": [
    "# python is an Expressive Language"
   ]
  },
  {
   "cell_type": "markdown",
   "id": "1d2bea17-849a-4d0a-be64-f9739f017361",
   "metadata": {},
   "source": [
    "# sequence datatype"
   ]
  },
  {
   "cell_type": "markdown",
   "id": "a14040a5-a243-4fb4-88b8-5a7c919e0d8a",
   "metadata": {},
   "source": [
    "### list\n",
    "tuple\n",
    "set\n",
    "dictionary"
   ]
  },
  {
   "cell_type": "code",
   "execution_count": null,
   "id": "f6f52c9b-65a7-4ac1-b198-de91d5967137",
   "metadata": {},
   "outputs": [],
   "source": [
    "#list - []\n",
    "data1 = [12,34,56,789,89]\n",
    "print(data1)\n",
    "print(type(data1))"
   ]
  },
  {
   "cell_type": "code",
   "execution_count": null,
   "id": "4f8fd37c-f912-4a35-a72f-2d26aa3d1a5e",
   "metadata": {},
   "outputs": [],
   "source": [
    "#tuple-()\n",
    "data2=(12,34,56,78)\n",
    "print(data2)\n",
    "print(type(data2))"
   ]
  },
  {
   "cell_type": "code",
   "execution_count": null,
   "id": "a7ed33f1-7890-4521-b257-9764a807891d",
   "metadata": {},
   "outputs": [],
   "source": [
    "#set - {}\n",
    "data3={12,4,5,67,34,12,12,12,12,12}\n",
    "print(data3)\n",
    "print(type(data3))"
   ]
  },
  {
   "cell_type": "code",
   "execution_count": null,
   "id": "110a1511-e4ab-4431-aa6c-f76c681a1aae",
   "metadata": {},
   "outputs": [],
   "source": [
    "#dictionary = {}\n",
    "data4={\"Std_id\":12,\"Std_name\":\"XYZ\"}\n",
    "print(data4)\n",
    "print(type(data4))"
   ]
  },
  {
   "cell_type": "markdown",
   "id": "2ace5531-60dc-4730-ab99-a9f3d46ac229",
   "metadata": {},
   "source": [
    "# operators"
   ]
  },
  {
   "cell_type": "markdown",
   "id": "3201fae8-64ec-4150-80d7-cc2373f9b996",
   "metadata": {},
   "source": [
    "# are the symbol used to perform the operations on varaibles"
   ]
  },
  {
   "cell_type": "markdown",
   "id": "bb43769f-1519-42c1-bb0f-2a7d5bd386c8",
   "metadata": {},
   "source": [
    "## Arithmetic operator"
   ]
  },
  {
   "cell_type": "code",
   "execution_count": null,
   "id": "88e48855-2354-4c02-80bd-a75bd8e88403",
   "metadata": {},
   "outputs": [],
   "source": [
    "num1=50\n",
    "num2=5\n",
    "print(\"Addition \",num1+num2)#55\n",
    "print(\"Subtraction \",num1-num2)#45\n",
    "print(\"Multiplication \",num1*num2)\n",
    "print(\"Division \",num1/num2)\n",
    "print(\"Remainder \",num1%num2)\n",
    "print(\"Floor Division \",num1//num2)\n",
    "print(\"Exponent \",num1**num2)"
   ]
  },
  {
   "cell_type": "markdown",
   "id": "cd6665bb-dd24-48e5-b7c1-6b0ab48bfe1d",
   "metadata": {},
   "source": [
    "# Comparision Operator\n"
   ]
  },
  {
   "cell_type": "code",
   "execution_count": null,
   "id": "5f42978a-07a0-4679-95b5-c265242c1e7e",
   "metadata": {},
   "outputs": [],
   "source": [
    "a=21\n",
    "b=21\n",
    "print(\"EQUAL \",a==b)\n",
    "print(\"NOT EQUAL \",a!=b)\n",
    "print(\"Greater \",a>b)\n",
    "print(\"Lesser \",a<b)\n",
    "print(\"Greater or Equal \",a>=b)\n",
    "print(\"Lesser or Equal\",a<=b)"
   ]
  },
  {
   "cell_type": "code",
   "execution_count": null,
   "id": "ded403f8-c189-4eb7-8754-336e7f9ac430",
   "metadata": {},
   "outputs": [],
   "source": []
  },
  {
   "cell_type": "code",
   "execution_count": null,
   "id": "94632ac6-3ba0-4a1a-9fe9-83022ddeb9a9",
   "metadata": {},
   "outputs": [],
   "source": [
    "a=12\n",
    "b=2\n",
    "print(\"Value of a \",a)#12\n",
    "print(\"Value of b \",b)#2\n",
    "a=a+b #12+2\n",
    "print(\"Value of a \",a)#14\n",
    "a=a-b #14-2 #12\n",
    "print(\"value of a \",a)#12\n",
    "a=a*b \n",
    "print(\"value of a \",a)#24"
   ]
  },
  {
   "cell_type": "markdown",
   "id": "8f661322-3b04-4da3-b2f1-5b3bd2d1a9a7",
   "metadata": {},
   "source": [
    "## Assignment Operator"
   ]
  },
  {
   "cell_type": "code",
   "execution_count": null,
   "id": "1148532b-2cf9-4094-8c0f-b89981b7a014",
   "metadata": {},
   "outputs": [],
   "source": [
    "a=12\n",
    "b=2\n",
    "print(\"Value of a \",a)#12\n",
    "print(\"Value of b \",b)#2\n",
    "#Which variable is going to store the result\n",
    "#what operation ur perforimg\n",
    "#to whom ur perform\n",
    "a+=b\n",
    "print(\"Value of a \",a)#14\n",
    "#Which variable is going to store the result\n",
    "#what operation ur perforimg\n",
    "#to whom ur perform\n",
    "a-=b\n",
    "\n",
    "print(\"value of a \",a)#12\n",
    "#Which variable is going to store the result\n",
    "#what operation ur perforimg\n",
    "#to whom ur perform\n",
    "a*=b\n",
    "\n",
    "print(\"value of a \",a)#24"
   ]
  },
  {
   "cell_type": "markdown",
   "id": "c75cbde3-8a41-4433-b63f-123fc0d26175",
   "metadata": {},
   "source": [
    "## Logical Operator"
   ]
  },
  {
   "cell_type": "markdown",
   "id": "8b7612be-6ed1-41b5-8660-f8093d2b3403",
   "metadata": {},
   "source": [
    "# AND"
   ]
  },
  {
   "cell_type": "markdown",
   "id": "832b80ef-1e9a-4a40-9993-023d936306c9",
   "metadata": {},
   "source": [
    "# all must be true"
   ]
  },
  {
   "cell_type": "markdown",
   "id": "7af7c74b-6e23-416c-bf53-3f291ea36a3c",
   "metadata": {},
   "source": [
    "# OR"
   ]
  },
  {
   "cell_type": "markdown",
   "id": "bae26342-f20c-4aee-a014-e6d0426daabc",
   "metadata": {},
   "source": [
    "# at least one must be true"
   ]
  },
  {
   "cell_type": "markdown",
   "id": "cd16b25a-0ca2-4ada-9f20-cc6dfb6c059d",
   "metadata": {},
   "source": [
    "# NOT"
   ]
  },
  {
   "cell_type": "markdown",
   "id": "171f7bd2-6a8f-482d-86d2-bb3463394e68",
   "metadata": {},
   "source": [
    "# wise Versa "
   ]
  },
  {
   "cell_type": "markdown",
   "id": "5be32b7a-5695-4561-96fa-17d47c2f4bfc",
   "metadata": {},
   "source": [
    "# Working of AND"
   ]
  },
  {
   "cell_type": "code",
   "execution_count": null,
   "id": "f5c7dc16-a7d8-4520-aa69-dfa5bac14c13",
   "metadata": {},
   "outputs": [],
   "source": [
    "c1=True\n",
    "c2=True\n",
    "c3=True\n",
    "c4=True\n",
    "\n",
    "\n",
    "print(c1 and c2 and c3 and c4)"
   ]
  },
  {
   "cell_type": "markdown",
   "id": "42bfcbf1-a325-4d81-9cb6-6b11b2194fc1",
   "metadata": {},
   "source": [
    "## Working of OR"
   ]
  },
  {
   "cell_type": "code",
   "execution_count": null,
   "id": "2172c454-016e-4081-8b86-615353c4c462",
   "metadata": {},
   "outputs": [],
   "source": [
    "c1=False\n",
    "c2=False\n",
    "c3=False\n",
    "c4=False\n",
    "print(c1 or c2 or c3 or c4)"
   ]
  },
  {
   "cell_type": "markdown",
   "id": "1965c1d4-e715-400c-ba8a-6fa10fb43006",
   "metadata": {},
   "source": [
    "## Working of not"
   ]
  },
  {
   "cell_type": "code",
   "execution_count": null,
   "id": "14e1ef44-ff2f-4d1a-abf8-5724cb04967d",
   "metadata": {},
   "outputs": [],
   "source": [
    "c1=True\n",
    "c2=False\n",
    "print(not c1)\n",
    "print(c1 or c2)#True\n",
    "print(not(c1 or c2))#False"
   ]
  },
  {
   "cell_type": "markdown",
   "id": "815b8648-83df-49a5-ac75-7eceb82b34ff",
   "metadata": {},
   "source": [
    "# Membership operator"
   ]
  },
  {
   "cell_type": "code",
   "execution_count": null,
   "id": "7e0a7f18-3707-4ca4-8273-56795d56926a",
   "metadata": {},
   "outputs": [],
   "source": [
    "data=\"Water\"\n",
    "print(\"o\" in data)#Looking for the value\n",
    "print(\"o\" not in data)#Not looking for the value(Element must not be present)"
   ]
  },
  {
   "cell_type": "code",
   "execution_count": null,
   "id": "1ec997c2-7b7a-46f2-8fc8-36cd1a8c6912",
   "metadata": {},
   "outputs": [],
   "source": [
    "a=500\n",
    "b=500\n",
    "c=a\n",
    "print(a is c)#identical Must\n",
    "print(b is not c)#not indentical \n",
    "print(b is c)"
   ]
  },
  {
   "cell_type": "markdown",
   "id": "018b1cfd-27dd-4cfb-bf65-69dd8a86e318",
   "metadata": {},
   "source": [
    "# ADDition of two Numbers"
   ]
  },
  {
   "cell_type": "code",
   "execution_count": null,
   "id": "5a49fc03-7013-4196-9ca1-f52c63a9c414",
   "metadata": {},
   "outputs": [],
   "source": [
    "a=int(input(\"Enter a value\"))\n",
    "b=int(input(\"Enter a value\"))\n",
    "\n",
    "c=a+b\n",
    "print(c)"
   ]
  },
  {
   "cell_type": "markdown",
   "id": "14005a11-e4bc-4842-9e8d-99eb217f8fc5",
   "metadata": {},
   "source": [
    "# input():"
   ]
  },
  {
   "cell_type": "code",
   "execution_count": null,
   "id": "e2f16f4a-d7df-4a14-ae86-d4ad923a38df",
   "metadata": {},
   "outputs": [],
   "source": [
    "a=input(\"Enter a value\")\n",
    "print(\"Value of a \",a)"
   ]
  },
  {
   "cell_type": "markdown",
   "id": "1ca8dcb1-5d77-42f8-a675-c2c06a22008f",
   "metadata": {},
   "source": [
    "## Conditional Statment"
   ]
  },
  {
   "cell_type": "code",
   "execution_count": null,
   "id": "95b57adf-5dc2-42cb-b29d-bd3087f6c9c7",
   "metadata": {},
   "outputs": [],
   "source": [
    "print(\"Hello\")\n",
    "print(\"Welcome\")\n",
    "print(\"To python class\")"
   ]
  },
  {
   "cell_type": "markdown",
   "id": "ef56b8fc-dc32-49dc-8c3a-8f9d832b0037",
   "metadata": {},
   "source": [
    "## check for the number greater than 100"
   ]
  },
  {
   "cell_type": "code",
   "execution_count": null,
   "id": "518849ca-e242-4b12-a071-736a5121ceeb",
   "metadata": {},
   "outputs": [],
   "source": [
    "a=int(input(\"Enter a value\"))\n",
    "\n",
    "if a>100:\n",
    "    print(\"Good\")\n",
    "print(\"Thank You\")"
   ]
  },
  {
   "cell_type": "code",
   "execution_count": null,
   "id": "bbebe413-fc16-4bea-b4db-69ca9cbd0c8f",
   "metadata": {},
   "outputs": [],
   "source": [
    "num=int(input(\"Enter a positive Number\"))\n",
    "if num>0:\n",
    "    print(\"Number is Positive\")\n",
    "print(\"THank You\")"
   ]
  },
  {
   "cell_type": "raw",
   "id": "92ac3cd5-96db-4a32-9c39-b25b09625bb7",
   "metadata": {},
   "source": [
    "if ... else"
   ]
  },
  {
   "cell_type": "code",
   "execution_count": null,
   "id": "320abc69-2ba0-4ba8-a15c-521907aa2615",
   "metadata": {},
   "outputs": [],
   "source": [
    "num=int(input(\"Enter a positive Number\"))\n",
    "if num>0:\n",
    "    print(\"Number is Positive\")\n",
    "else:\n",
    "    print(\"Number is Negative\")"
   ]
  },
  {
   "cell_type": "raw",
   "id": "16950d8a-8ef3-4b54-98cd-de182d682f64",
   "metadata": {},
   "source": [
    "#WAP which checks the number Number is Positive ,Negative or Zero"
   ]
  },
  {
   "cell_type": "raw",
   "id": "a9fc579d-55d6-4aba-84f4-6b7895e9a8c4",
   "metadata": {},
   "source": [
    "Enter A Number : 45\n",
    "Number is Positive\n",
    "\n",
    "Enter a Number :-7\n",
    "Number is Negative\n",
    "\n",
    "Enter a Number :0\n",
    "Number is Zero"
   ]
  },
  {
   "cell_type": "code",
   "execution_count": null,
   "id": "8b07d041-d140-4c44-9408-06bfa12f34ba",
   "metadata": {},
   "outputs": [],
   "source": [
    "num=int(input(\"Enter a Number\"))\n",
    "if num>=0:\n",
    "    if num==0:\n",
    "        print(\"Number is Zero\")\n",
    "    else:\n",
    "        print(\"Number is positive\")\n",
    "else:\n",
    "    print(\"Number is Negative\")\n",
    "    "
   ]
  },
  {
   "cell_type": "raw",
   "id": "72d59d74-fad0-4849-a727-b3aae933b398",
   "metadata": {},
   "source": [
    "#WAP where u accept the city name and based on the city name print the monument"
   ]
  },
  {
   "cell_type": "raw",
   "id": "1a40d7d1-feb3-4f49-834a-e271463fe996",
   "metadata": {},
   "source": [
    "agra = TajMahal\n",
    "jaipur = JalMahal\n",
    "Mumbai = GatewayofIndia\n",
    "\n",
    "Invalid Choice"
   ]
  },
  {
   "cell_type": "raw",
   "id": "c73357dc-724d-45c9-af7b-2ea5865636b3",
   "metadata": {},
   "source": [
    "#WAP to check the number is divisble by 2 and 12"
   ]
  },
  {
   "cell_type": "code",
   "execution_count": null,
   "id": "2b9b7d91-5118-499a-ad92-7757692c4552",
   "metadata": {},
   "outputs": [],
   "source": [
    "num=int(input(\"Enter a Number\"))\n",
    "if num%2==0 and num%12==0:\n",
    "    print(\"Enter Number is Divisible by 2 and 12\")\n",
    "else:\n",
    "    print(\"Enter Number is  not Divisible by 2 and 12\")"
   ]
  },
  {
   "cell_type": "raw",
   "id": "2b046ade-e207-4f3e-a343-c6a8b5b92e52",
   "metadata": {},
   "source": [
    "#WAP To check the number is divisble by 2 and 3 with following Conditions:\n",
    "1) Number is Divisible by 2 only\n",
    "2) Number is Divisble by 3 only\n",
    "3) Number is Divisible by 2 and 3\n",
    "4) Number is  not Divisible by 2 and 3\n"
   ]
  },
  {
   "cell_type": "raw",
   "id": "cea72d3f-6dd7-49dd-8e22-19b12b92e845",
   "metadata": {},
   "source": [
    "Enter a number : 10\n",
    "Number is Divisible by 2 only"
   ]
  },
  {
   "cell_type": "raw",
   "id": "d63770a4-bf37-4580-9714-ee966ba8e0e9",
   "metadata": {},
   "source": [
    "Enter a Number : 15\n",
    "Number is Divisible by 3"
   ]
  },
  {
   "cell_type": "raw",
   "id": "93a6ab26-dc6f-41d9-8dc8-3a883e14390c",
   "metadata": {},
   "source": [
    "enter a Number : 12\n",
    "Number is Divisible by 2 and 3"
   ]
  },
  {
   "cell_type": "raw",
   "id": "41f1379f-93d3-447c-8e6d-bc0c288525e6",
   "metadata": {},
   "source": [
    "Enter a Number : 7\n",
    "Number is  not Divisible by 2 and 3"
   ]
  },
  {
   "cell_type": "code",
   "execution_count": null,
   "id": "f3aa6555-b72d-4a23-bebf-801dc02fc3fb",
   "metadata": {},
   "outputs": [],
   "source": [
    "a=int(input(\"Enter a Value\"))\n",
    "if a%2==0:\n",
    "    if a%3==0:\n",
    "        print(\"Number is Divisible by 2 and 3\")\n",
    "    else:\n",
    "        print(\"Number is Divisible by 2 only\")\n",
    "else:\n",
    "    if a%3==0:\n",
    "        print(\"Number is Divisible by 3 only\")\n",
    "    else:\n",
    "        print(\"Number is not Divisible by 2 and 3\")"
   ]
  },
  {
   "cell_type": "code",
   "execution_count": null,
   "id": "411d0860-c8e6-4e71-ac32-ed72de31ecfb",
   "metadata": {},
   "outputs": [],
   "source": [
    "print(\"Good Afternoon\")\n",
    "print(\"Second Half\")\n",
    "print(\"Good Afternoon\")\n",
    "print(\"Second Half\")"
   ]
  },
  {
   "cell_type": "raw",
   "id": "d4ee7504-4c95-4a49-b87c-ab877c255406",
   "metadata": {},
   "source": [
    "while"
   ]
  },
  {
   "cell_type": "code",
   "execution_count": null,
   "id": "35258ecd-ec5c-46b4-a87d-59aa2eb8a6df",
   "metadata": {},
   "outputs": [],
   "source": [
    "a=1\n",
    "while a<=10:\n",
    "    print(\"value of a \",a )\n",
    "    a+=1"
   ]
  },
  {
   "cell_type": "raw",
   "id": "0e8ab163-2a3b-46d8-a43e-565bd98e8dcf",
   "metadata": {},
   "source": [
    "10\n",
    "9\n",
    "8\n",
    ".\n",
    ".\n",
    ".\n",
    "1"
   ]
  },
  {
   "cell_type": "code",
   "execution_count": null,
   "id": "6eef9f1a-db70-472f-bec4-0d7b2155ffa0",
   "metadata": {},
   "outputs": [],
   "source": [
    "a=10\n",
    "while a>=0:\n",
    "    print(\"a = \",a)\n",
    "    a-=1"
   ]
  },
  {
   "cell_type": "markdown",
   "id": "1508894e-41ec-4839-844b-96321b53f699",
   "metadata": {},
   "source": [
    "## print a table from user input "
   ]
  },
  {
   "cell_type": "raw",
   "id": "d893a3b5-a33d-4857-bd6c-a705b7e2da9f",
   "metadata": {},
   "source": [
    "2 * 1 = 2\n",
    "2 * 2 = 4\n",
    "\n"
   ]
  },
  {
   "cell_type": "raw",
   "id": "dbb5e2f2-2c99-4fb2-b1ca-5d0bb2fb2a25",
   "metadata": {},
   "source": [
    "Enter table "
   ]
  },
  {
   "cell_type": "raw",
   "id": "b0878de9-fd35-40b5-9576-86cadc4ce3ac",
   "metadata": {},
   "source": [
    "Enter a number for printing the table : 12\n",
    "Enter a Starting :6\n",
    "Enter a Ending : 18"
   ]
  },
  {
   "cell_type": "raw",
   "id": "e0d71234-83aa-46ec-9932-13788fd7888c",
   "metadata": {},
   "source": [
    "12 * 6 = 75\n",
    "..\n",
    ".\n",
    ".\n",
    ".\n",
    "12 * 18 = ____"
   ]
  },
  {
   "cell_type": "code",
   "execution_count": null,
   "id": "76cf9e80-185a-4cc2-9d85-d1e3fd289a32",
   "metadata": {},
   "outputs": [],
   "source": []
  },
  {
   "cell_type": "code",
   "execution_count": null,
   "id": "5cfa45ef-7eb4-4161-9d88-35851f72a91b",
   "metadata": {},
   "outputs": [],
   "source": []
  },
  {
   "cell_type": "code",
   "execution_count": null,
   "id": "3749f2ef-077f-46bf-8794-e326ad0b6836",
   "metadata": {},
   "outputs": [],
   "source": [
    "that will display only those number which is divisible by 2"
   ]
  },
  {
   "cell_type": "code",
   "execution_count": null,
   "id": "42bd0e24-24c3-4e57-a2c3-5771aad783d6",
   "metadata": {},
   "outputs": [],
   "source": [
    "a=[12,34,56,78,90,33]\n",
    "for x in a:\n",
    "    if x%2==0:\n",
    "        print(x)"
   ]
  },
  {
   "cell_type": "raw",
   "id": "00831767-8cd9-426f-9157-290caa7b72ce",
   "metadata": {},
   "source": [
    "range(start:end:stepDiff(optional))"
   ]
  },
  {
   "cell_type": "code",
   "execution_count": null,
   "id": "2b0e9a61-455e-4042-9bbf-d886bae7edbf",
   "metadata": {},
   "outputs": [],
   "source": [
    "start: it will start from exact point\n",
    "end:it will end one step earlier"
   ]
  },
  {
   "cell_type": "code",
   "execution_count": null,
   "id": "e4c7b29f-72cb-41ab-8107-2775c1e99826",
   "metadata": {},
   "outputs": [],
   "source": [
    "for X in range(1,5):\n",
    "    print(X)"
   ]
  },
  {
   "cell_type": "code",
   "execution_count": null,
   "id": "dbcfd443-6fc0-43a3-b88d-c6ba0f5c9114",
   "metadata": {},
   "outputs": [],
   "source": [
    "#bydefault start point will be zero\n",
    "for x in range(5):\n",
    "    print(x)"
   ]
  },
  {
   "cell_type": "code",
   "execution_count": null,
   "id": "90686dc1-94df-4769-87b0-910fd5d6eaea",
   "metadata": {},
   "outputs": [],
   "source": [
    "for x in range(2,22,2):\n",
    "    print(x)"
   ]
  },
  {
   "cell_type": "raw",
   "id": "bbe3916e-c03a-49bd-9b1b-746a72777852",
   "metadata": {},
   "source": [
    "start point from user and end point from user and print the number"
   ]
  },
  {
   "cell_type": "raw",
   "id": "5807b38a-84ac-4e36-a80c-8c8295d56656",
   "metadata": {},
   "source": [
    "Start point:3\n",
    "End point :14\n",
    "3\n",
    ".\n",
    ".\n",
    ".\n",
    "14"
   ]
  },
  {
   "cell_type": "raw",
   "id": "633f9cc3-0103-493c-a708-f730fcfbe676",
   "metadata": {},
   "source": [
    "print only those number which are divisible by 5 and 15"
   ]
  },
  {
   "cell_type": "raw",
   "id": "d46ab703-2b52-45bd-8ad5-4698d82a56a9",
   "metadata": {},
   "source": [
    "List"
   ]
  },
  {
   "cell_type": "raw",
   "id": "1d1b3cbb-4b73-4506-a891-278c1da9a1e0",
   "metadata": {},
   "source": [
    "empty list creation"
   ]
  },
  {
   "cell_type": "code",
   "execution_count": null,
   "id": "f2c64923-bf51-4e84-a7c4-46067085a286",
   "metadata": {},
   "outputs": [],
   "source": [
    "l1 = []\n",
    "print(l1)\n",
    "print(type(l1))"
   ]
  },
  {
   "cell_type": "raw",
   "id": "159a1c10-f427-42ac-9bee-c550e49e3e93",
   "metadata": {},
   "source": [
    "## create a list element using the constructor"
   ]
  },
  {
   "cell_type": "code",
   "execution_count": null,
   "id": "99d94415-cddb-4946-8171-ad91dbd9cdcb",
   "metadata": {},
   "outputs": [],
   "source": [
    "l2=list()\n",
    "print(l2)\n",
    "print(type(l2))"
   ]
  },
  {
   "cell_type": "code",
   "execution_count": null,
   "id": "951b3423-e32d-41e3-ba2a-797841ec77ce",
   "metadata": {},
   "outputs": [],
   "source": [
    "data=[\"red\",\"green\",\"blue\",\"pink\",\"White\"]\n",
    "print(data)"
   ]
  },
  {
   "cell_type": "raw",
   "id": "bdc85db7-72ee-4d2e-afe6-af664bdc28a7",
   "metadata": {},
   "source": [
    "indexing : Accessing one element only"
   ]
  },
  {
   "cell_type": "raw",
   "id": "1b722d98-8236-46b7-b999-25664aa40ed4",
   "metadata": {},
   "source": [
    "variable_name[indexvalue]"
   ]
  },
  {
   "cell_type": "code",
   "execution_count": null,
   "id": "3f8b679d-31b5-4346-bc36-76aa9456c01a",
   "metadata": {},
   "outputs": [],
   "source": [
    "print(data[2])"
   ]
  },
  {
   "cell_type": "raw",
   "id": "7cbdfb18-3064-4dfc-b61c-1377b4ee02a2",
   "metadata": {},
   "source": [
    "access the first element"
   ]
  },
  {
   "cell_type": "code",
   "execution_count": null,
   "id": "1468eb6a-e300-4264-b9ac-3ca164cf36d9",
   "metadata": {},
   "outputs": [],
   "source": [
    "print(data[0])"
   ]
  },
  {
   "cell_type": "raw",
   "id": "ea9f2546-0bca-4e1c-a723-e765c4003fe7",
   "metadata": {},
   "source": [
    "## Access the last element"
   ]
  },
  {
   "cell_type": "code",
   "execution_count": null,
   "id": "f086402d-102b-4336-8016-74590326bf66",
   "metadata": {},
   "outputs": [],
   "source": [
    "print(data[4])"
   ]
  },
  {
   "cell_type": "raw",
   "id": "26f58fb6-8fa8-4b45-aced-71f816284784",
   "metadata": {},
   "source": [
    "Negative indexing"
   ]
  },
  {
   "cell_type": "code",
   "execution_count": null,
   "id": "b65b65f9-4d12-436c-aa04-a57aedc897f8",
   "metadata": {},
   "outputs": [],
   "source": [
    "data=[12,34,56,78,90,876,45,32,32,122,34,45,45]"
   ]
  },
  {
   "cell_type": "code",
   "execution_count": null,
   "id": "9de37d1f-8443-4f89-b4f4-1e56985ed0f3",
   "metadata": {},
   "outputs": [],
   "source": [
    "print(data[-1])\n",
    "print(data[-2])\n",
    "print(data[-3])"
   ]
  },
  {
   "cell_type": "raw",
   "id": "798f9bfa-1528-4932-b913-c68e1dcf6023",
   "metadata": {},
   "source": [
    "slicing:when we are accessing multiple elements"
   ]
  },
  {
   "cell_type": "code",
   "execution_count": null,
   "id": "59f86d18-f0dc-416d-ab6a-89e953bb363c",
   "metadata": {},
   "outputs": [],
   "source": [
    "print(data)"
   ]
  },
  {
   "cell_type": "code",
   "execution_count": null,
   "id": "eac7f109-25fb-497d-ba12-ac25ea71b930",
   "metadata": {},
   "outputs": [],
   "source": [
    "print(data[1:5])"
   ]
  },
  {
   "cell_type": "raw",
   "id": "64573604-e834-4545-a8c0-dac385c8ee24",
   "metadata": {},
   "source": [
    "start from Exact mention value\n",
    "end one value before the mention value"
   ]
  },
  {
   "cell_type": "code",
   "execution_count": null,
   "id": "b2445703-5ea3-4abf-9740-acbad0b6ecdc",
   "metadata": {},
   "outputs": [],
   "source": [
    "print(data[:5])"
   ]
  },
  {
   "cell_type": "code",
   "execution_count": null,
   "id": "0069d1d6-5526-4fcc-9f85-7a2fdbed5043",
   "metadata": {},
   "outputs": [],
   "source": [
    "print(data[5:])"
   ]
  },
  {
   "cell_type": "code",
   "execution_count": null,
   "id": "7a3e2337-fbc1-4298-afda-a510b59aba4d",
   "metadata": {},
   "outputs": [],
   "source": [
    "print(data[:])"
   ]
  },
  {
   "cell_type": "raw",
   "id": "44a31305-bf9c-44df-b84f-2b7a9fbbb174",
   "metadata": {},
   "source": [
    "start:end:step_diff"
   ]
  },
  {
   "cell_type": "code",
   "execution_count": null,
   "id": "b295189f-6e98-4a10-900d-aed6c0dafea7",
   "metadata": {},
   "outputs": [],
   "source": [
    "print(\"DATA\",data)\n",
    "print(\"-------------------------\")\n",
    "data1=data[9:4:-1]\n",
    "print(data1)"
   ]
  },
  {
   "cell_type": "code",
   "execution_count": null,
   "id": "fbf98d69-6758-4bde-b967-3dc0c5961869",
   "metadata": {},
   "outputs": [],
   "source": [
    "print(data[::-2])"
   ]
  },
  {
   "cell_type": "markdown",
   "id": "c1439821-bf8b-48f1-8fe5-c64b56e30504",
   "metadata": {},
   "source": [
    "## Modification of list element"
   ]
  },
  {
   "cell_type": "code",
   "execution_count": 1,
   "id": "d45e0034-b4d6-490f-8d4d-c67e39165a50",
   "metadata": {},
   "outputs": [],
   "source": [
    "colors=[\"red\",\"green\",\"black\",\"white\",\"blue\"]"
   ]
  },
  {
   "cell_type": "raw",
   "id": "d307cead-a7bd-41e7-9fff-d9d277091391",
   "metadata": {},
   "source": [
    "Change the color value black to pink"
   ]
  },
  {
   "cell_type": "code",
   "execution_count": 3,
   "id": "f2321843-f983-492e-9484-f04d8c7b9c92",
   "metadata": {},
   "outputs": [
    {
     "name": "stdout",
     "output_type": "stream",
     "text": [
      "['red', 'green', 'pink', 'white', 'blue']\n"
     ]
    }
   ],
   "source": [
    "colors[2]=\"pink\"\n",
    "print(colors)"
   ]
  },
  {
   "cell_type": "raw",
   "id": "141e716e-e7a0-4501-b0a7-3fb2e866ab47",
   "metadata": {},
   "source": [
    "## change the color [green pink white] to [grey,red,white]"
   ]
  },
  {
   "cell_type": "code",
   "execution_count": 5,
   "id": "24673903-4f71-4cb9-8b0a-822911989920",
   "metadata": {},
   "outputs": [
    {
     "name": "stdout",
     "output_type": "stream",
     "text": [
      "['green', 'pink', 'white']\n"
     ]
    }
   ],
   "source": [
    "print(colors[1:4])"
   ]
  },
  {
   "cell_type": "code",
   "execution_count": 6,
   "id": "e9cd20df-a06e-4a1d-8465-646996bd77a1",
   "metadata": {},
   "outputs": [
    {
     "name": "stdout",
     "output_type": "stream",
     "text": [
      "['red', 'grey', 'red', 'white', 'blue']\n"
     ]
    }
   ],
   "source": [
    "colors[1:4]=\"grey\",\"red\",\"white\"\n",
    "print(colors)"
   ]
  },
  {
   "cell_type": "raw",
   "id": "190d17fb-88be-40df-9530-c4d5d0d3055c",
   "metadata": {},
   "source": [
    "change the color grey , red to pink,orange"
   ]
  },
  {
   "cell_type": "code",
   "execution_count": 9,
   "id": "23e0fd30-df33-4169-9eae-1e710e4613e5",
   "metadata": {},
   "outputs": [],
   "source": [
    "colors[1:]=\"pink\",\"orange\",\"white\",\"puple\",\"skyblue\""
   ]
  },
  {
   "cell_type": "code",
   "execution_count": 10,
   "id": "9e4425d9-9b0f-4684-813f-2be726c37c00",
   "metadata": {},
   "outputs": [
    {
     "name": "stdout",
     "output_type": "stream",
     "text": [
      "['red', 'pink', 'orange', 'white', 'puple', 'skyblue']\n"
     ]
    }
   ],
   "source": [
    "print(colors)"
   ]
  },
  {
   "cell_type": "code",
   "execution_count": 11,
   "id": "76b95eef-d7ad-4458-b4dc-e7ca10edc3b5",
   "metadata": {},
   "outputs": [
    {
     "ename": "IndexError",
     "evalue": "list index out of range",
     "output_type": "error",
     "traceback": [
      "\u001b[1;31m---------------------------------------------------------------------------\u001b[0m",
      "\u001b[1;31mIndexError\u001b[0m                                Traceback (most recent call last)",
      "Cell \u001b[1;32mIn[11], line 1\u001b[0m\n\u001b[1;32m----> 1\u001b[0m \u001b[38;5;28mprint\u001b[39m(colors[\u001b[38;5;241m77\u001b[39m])\n",
      "\u001b[1;31mIndexError\u001b[0m: list index out of range"
     ]
    }
   ],
   "source": [
    "print(colors[77])"
   ]
  },
  {
   "cell_type": "raw",
   "id": "97cfb797-4546-4365-a279-7ec09db91fd9",
   "metadata": {},
   "source": [
    "Adding the list element"
   ]
  },
  {
   "cell_type": "raw",
   "id": "4d2c204d-a621-454c-8e88-642b7617cc57",
   "metadata": {},
   "source": [
    "append\n",
    "insert\n",
    "extend"
   ]
  },
  {
   "cell_type": "code",
   "execution_count": 13,
   "id": "b910c67f-126b-43d6-a277-e4218b7478ae",
   "metadata": {},
   "outputs": [
    {
     "name": "stdout",
     "output_type": "stream",
     "text": [
      "[2, 6, 8, 10]\n",
      "[2, 6, 8, 10, 10]\n"
     ]
    }
   ],
   "source": [
    "data=[2,6,8,10]\n",
    "print(data)\n",
    "data.append(10)\n",
    "print(data)"
   ]
  },
  {
   "cell_type": "code",
   "execution_count": 14,
   "id": "bab47c2d-9834-47be-a066-938f285ca337",
   "metadata": {},
   "outputs": [
    {
     "name": "stdout",
     "output_type": "stream",
     "text": [
      "[2, 6, 8, 10, 10, 4]\n"
     ]
    }
   ],
   "source": [
    "data.append(4)\n",
    "print(data)"
   ]
  },
  {
   "cell_type": "raw",
   "id": "743946bb-715e-45f4-93d4-707b22d20a03",
   "metadata": {},
   "source": [
    "insert(index ,element)"
   ]
  },
  {
   "cell_type": "code",
   "execution_count": 15,
   "id": "1cd8f7ba-e771-4066-98f1-25852d377b48",
   "metadata": {},
   "outputs": [
    {
     "name": "stdout",
     "output_type": "stream",
     "text": [
      "[2, 4, 6, 8, 10, 10, 4]\n"
     ]
    }
   ],
   "source": [
    "data.insert(1,4)\n",
    "print(data)"
   ]
  },
  {
   "cell_type": "code",
   "execution_count": 16,
   "id": "dd6cade4-a28c-42e0-a204-e3e77759d7bf",
   "metadata": {},
   "outputs": [],
   "source": [
    "data2=[8,12,16,20]\n"
   ]
  },
  {
   "cell_type": "raw",
   "id": "4b90948e-ba33-4578-a306-443a467e1d55",
   "metadata": {},
   "source": [
    "data===[2, 4, 6, 8, 10, 10, 4,8,12,16,20]"
   ]
  },
  {
   "cell_type": "code",
   "execution_count": 17,
   "id": "37db7925-667c-4fc8-bc3a-d6b62e24ffd2",
   "metadata": {},
   "outputs": [
    {
     "name": "stdout",
     "output_type": "stream",
     "text": [
      "[2, 4, 6, 8, 10, 10, 4, 8, 12, 16, 20]\n",
      "[8, 12, 16, 20]\n"
     ]
    }
   ],
   "source": [
    "data.extend(data2)\n",
    "print(data)\n",
    "print(data2)"
   ]
  },
  {
   "cell_type": "raw",
   "id": "999d325c-7d38-4914-afde-123df5181e2c",
   "metadata": {},
   "source": [
    "delete the elements"
   ]
  },
  {
   "cell_type": "raw",
   "id": "a3c79dad-9e38-4226-86ea-ae50e353a13b",
   "metadata": {},
   "source": [
    "remove\n",
    "pop\n",
    "clear\n",
    "del keyword"
   ]
  },
  {
   "cell_type": "code",
   "execution_count": 18,
   "id": "a0b3d706-8306-42f4-b7f3-b7232d62f5b0",
   "metadata": {},
   "outputs": [
    {
     "name": "stdout",
     "output_type": "stream",
     "text": [
      "[2, 4, 6, 8, 10, 10, 4, 8, 12, 16, 20]\n"
     ]
    }
   ],
   "source": [
    "print(data)"
   ]
  },
  {
   "cell_type": "code",
   "execution_count": 20,
   "id": "7c6d0c75-363d-48a4-92f1-5e8a75471fd6",
   "metadata": {},
   "outputs": [
    {
     "name": "stdout",
     "output_type": "stream",
     "text": [
      "[2, 4, 6, 8, 10, 10, 4, 8, 12, 16]\n"
     ]
    }
   ],
   "source": [
    "data.remove(20)\n",
    "print(data)"
   ]
  },
  {
   "cell_type": "code",
   "execution_count": 21,
   "id": "960fab70-8152-4102-8064-3de004f1c848",
   "metadata": {},
   "outputs": [
    {
     "name": "stdout",
     "output_type": "stream",
     "text": [
      "[2, 4, 6, 8, 10, 4, 8, 12, 16]\n"
     ]
    }
   ],
   "source": [
    "data.remove(10)\n",
    "print(data)"
   ]
  },
  {
   "cell_type": "code",
   "execution_count": 22,
   "id": "73328c16-56a6-46de-abda-a6142fe84357",
   "metadata": {},
   "outputs": [
    {
     "name": "stdout",
     "output_type": "stream",
     "text": [
      "[2, 4, 6, 8, 4, 8, 12, 16]\n"
     ]
    }
   ],
   "source": [
    "data.remove(10)\n",
    "print(data)"
   ]
  },
  {
   "cell_type": "code",
   "execution_count": 23,
   "id": "399e8d2f-0431-49e4-b7e7-4e4de807277c",
   "metadata": {},
   "outputs": [
    {
     "name": "stdout",
     "output_type": "stream",
     "text": [
      "8\n"
     ]
    }
   ],
   "source": [
    "print(data[3])"
   ]
  },
  {
   "cell_type": "raw",
   "id": "1ad14a30-93fb-4be0-a5a9-a0d238fef49f",
   "metadata": {},
   "source": [
    "pop"
   ]
  },
  {
   "cell_type": "code",
   "execution_count": 24,
   "id": "2c4b4b88-8cb8-4ee9-ae93-3ad9fa86dab5",
   "metadata": {},
   "outputs": [
    {
     "name": "stdout",
     "output_type": "stream",
     "text": [
      "[2, 4, 6, 8, 4, 8, 12]\n"
     ]
    }
   ],
   "source": [
    "data.pop()\n",
    "print(data)"
   ]
  },
  {
   "cell_type": "code",
   "execution_count": 25,
   "id": "9055641b-7335-450a-82fe-98b74600f4ae",
   "metadata": {},
   "outputs": [
    {
     "name": "stdout",
     "output_type": "stream",
     "text": [
      "[2, 4, 6, 8, 4, 8]\n"
     ]
    }
   ],
   "source": [
    "data.pop()\n",
    "print(data)"
   ]
  },
  {
   "cell_type": "code",
   "execution_count": 26,
   "id": "eeba1f2a-427b-4092-9245-deab59bb76c2",
   "metadata": {},
   "outputs": [
    {
     "name": "stdout",
     "output_type": "stream",
     "text": [
      "[2, 4, 6, 8, 4]\n"
     ]
    }
   ],
   "source": [
    "data.pop()\n",
    "print(data)"
   ]
  },
  {
   "cell_type": "code",
   "execution_count": 27,
   "id": "b4aaec84-dc25-4eb2-9d02-aed4b19dc062",
   "metadata": {},
   "outputs": [
    {
     "name": "stdout",
     "output_type": "stream",
     "text": [
      "[2, 4, 6, 8]\n"
     ]
    }
   ],
   "source": [
    "data.pop()\n",
    "print(data)"
   ]
  },
  {
   "cell_type": "code",
   "execution_count": 28,
   "id": "7fc594af-3ca6-44a6-b874-e7faa26d3442",
   "metadata": {},
   "outputs": [
    {
     "name": "stdout",
     "output_type": "stream",
     "text": [
      "[2, 4, 6]\n"
     ]
    }
   ],
   "source": [
    "data.pop()\n",
    "print(data)"
   ]
  },
  {
   "cell_type": "code",
   "execution_count": 29,
   "id": "e6a74812-85de-4e3c-9921-c7883b15dcbf",
   "metadata": {},
   "outputs": [
    {
     "name": "stdout",
     "output_type": "stream",
     "text": [
      "[2, 6]\n"
     ]
    }
   ],
   "source": [
    "data.pop(1)\n",
    "print(data)"
   ]
  },
  {
   "cell_type": "raw",
   "id": "8a1fe01d-89f5-4928-88ae-4ad5c8ed784b",
   "metadata": {},
   "source": [
    "clear "
   ]
  },
  {
   "cell_type": "code",
   "execution_count": 30,
   "id": "9a2c232e-fd87-427d-9173-13d48aac8a3f",
   "metadata": {},
   "outputs": [
    {
     "name": "stdout",
     "output_type": "stream",
     "text": [
      "[2, 6]\n"
     ]
    }
   ],
   "source": [
    "print(data)"
   ]
  },
  {
   "cell_type": "code",
   "execution_count": 31,
   "id": "df07a7db-adec-4b5c-8631-70aa0720c9fa",
   "metadata": {},
   "outputs": [
    {
     "name": "stdout",
     "output_type": "stream",
     "text": [
      "[]\n"
     ]
    }
   ],
   "source": [
    "data.clear()\n",
    "print(data)"
   ]
  },
  {
   "cell_type": "code",
   "execution_count": 33,
   "id": "5fbe4bd4-d267-41e1-a34b-08200cfd40ed",
   "metadata": {},
   "outputs": [],
   "source": [
    "data.append(34)"
   ]
  },
  {
   "cell_type": "code",
   "execution_count": 34,
   "id": "dd5adc7e-18f2-4873-9b7e-1b9ed88ae8b2",
   "metadata": {},
   "outputs": [],
   "source": [
    "data.extend(data2)"
   ]
  },
  {
   "cell_type": "code",
   "execution_count": 35,
   "id": "c2a8dc44-0e8c-4823-9385-163ae30c858e",
   "metadata": {},
   "outputs": [
    {
     "name": "stdout",
     "output_type": "stream",
     "text": [
      "[12, 34, 8, 12, 16, 20]\n"
     ]
    }
   ],
   "source": [
    "print(data)"
   ]
  },
  {
   "cell_type": "code",
   "execution_count": 36,
   "id": "813ef830-a058-416c-9183-081f383c9c12",
   "metadata": {},
   "outputs": [
    {
     "name": "stdout",
     "output_type": "stream",
     "text": [
      "[8, 12, 16]\n"
     ]
    }
   ],
   "source": [
    "print(data[2:5])"
   ]
  },
  {
   "cell_type": "code",
   "execution_count": 37,
   "id": "0b7e9fe8-ec02-4273-82c1-6a112b9afb36",
   "metadata": {},
   "outputs": [
    {
     "name": "stdout",
     "output_type": "stream",
     "text": [
      "[12, 34, 20]\n"
     ]
    }
   ],
   "source": [
    "del data[2:5]\n",
    "print(data)"
   ]
  },
  {
   "cell_type": "code",
   "execution_count": 38,
   "id": "0b21041a-0501-49cd-b70c-4cdbc58efb98",
   "metadata": {},
   "outputs": [
    {
     "name": "stdout",
     "output_type": "stream",
     "text": [
      "[]\n"
     ]
    }
   ],
   "source": [
    "data.clear()\n",
    "print(data)"
   ]
  },
  {
   "cell_type": "code",
   "execution_count": 39,
   "id": "d376565a-7c1d-4583-a4c4-3864077cc57d",
   "metadata": {},
   "outputs": [
    {
     "name": "stdout",
     "output_type": "stream",
     "text": [
      "[8, 12, 16, 20]\n"
     ]
    }
   ],
   "source": [
    "data.extend(data2)\n",
    "print(data)"
   ]
  },
  {
   "cell_type": "code",
   "execution_count": 40,
   "id": "a6eeefd7-c929-4594-8afe-baae5d3d0bf7",
   "metadata": {},
   "outputs": [
    {
     "ename": "NameError",
     "evalue": "name 'data' is not defined",
     "output_type": "error",
     "traceback": [
      "\u001b[1;31m---------------------------------------------------------------------------\u001b[0m",
      "\u001b[1;31mNameError\u001b[0m                                 Traceback (most recent call last)",
      "Cell \u001b[1;32mIn[40], line 2\u001b[0m\n\u001b[0;32m      1\u001b[0m \u001b[38;5;28;01mdel\u001b[39;00m data\n\u001b[1;32m----> 2\u001b[0m \u001b[38;5;28mprint\u001b[39m(data)\n",
      "\u001b[1;31mNameError\u001b[0m: name 'data' is not defined"
     ]
    }
   ],
   "source": [
    "del data\n",
    "print(data)"
   ]
  },
  {
   "cell_type": "code",
   "execution_count": 41,
   "id": "53084885-efa5-48eb-95d4-9f321878e17c",
   "metadata": {},
   "outputs": [],
   "source": [
    "data=[232,34,3]"
   ]
  },
  {
   "cell_type": "code",
   "execution_count": null,
   "id": "1cd6e277-7bf7-44e2-a44f-a70cb0572e6e",
   "metadata": {},
   "outputs": [],
   "source": []
  }
 ],
 "metadata": {
  "kernelspec": {
   "display_name": "Python 3 (ipykernel)",
   "language": "python",
   "name": "python3"
  },
  "language_info": {
   "codemirror_mode": {
    "name": "ipython",
    "version": 3
   },
   "file_extension": ".py",
   "mimetype": "text/x-python",
   "name": "python",
   "nbconvert_exporter": "python",
   "pygments_lexer": "ipython3",
   "version": "3.11.7"
  }
 },
 "nbformat": 4,
 "nbformat_minor": 5
}
